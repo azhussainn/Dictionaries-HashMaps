{
 "cells": [
  {
   "cell_type": "code",
   "execution_count": 28,
   "metadata": {},
   "outputs": [],
   "source": [
    "#O(n) complexity\n",
    "def subsetSum(l):\n",
    "    \n",
    "    k = len(l)    \n",
    "    maxLen = 0\n",
    "    \n",
    "    for i in range(k-1):\n",
    "        \n",
    "        tempLen= 0\n",
    "        current = l[i]\n",
    "        for j in range(i+1, k):\n",
    "\n",
    "            current += l[j]\n",
    "            tempLen += 1\n",
    "            \n",
    "            if current == 0:\n",
    "                if tempLen > maxLen:\n",
    "                    maxLen = tempLen + 1\n",
    "    return maxLen"
   ]
  },
  {
   "cell_type": "code",
   "execution_count": 38,
   "metadata": {},
   "outputs": [
    {
     "name": "stdout",
     "output_type": "stream",
     "text": [
      "5\n"
     ]
    }
   ],
   "source": [
    "l = [-3, 2, 1, 4, -4]\n",
    "print(subsetSum(l))"
   ]
  },
  {
   "cell_type": "code",
   "execution_count": 27,
   "metadata": {},
   "outputs": [],
   "source": [
    "#O(n) complexity\n",
    "def subsetSum2(l):\n",
    "    \n",
    "    x = len(l)\n",
    "    currSum = 0\n",
    "    finalSubsetLen = 0\n",
    "    d ={}\n",
    "    i = 0\n",
    "    \n",
    "    while i< x:\n",
    "        \n",
    "        currSum += l[i]\n",
    "        if currSum != 0:\n",
    "            if currSum in d:\n",
    "                lenSubset = i - d[currSum]\n",
    "                if lenSubset > finalSubsetLen:\n",
    "                    finalSubsetLen = lenSubset\n",
    "\n",
    "            else:\n",
    "                d[currSum] = i\n",
    "        else:\n",
    "            if l[i] != 0:\n",
    "                finalSubsetLen = len(l[:i])\n",
    "                \n",
    "            else:\n",
    "                if finalSubsetLen == 0:\n",
    "                    j = i\n",
    "                    firstZeros = 0\n",
    "                    while j < x and l[j] == 0:\n",
    "                        firstZeros += 1\n",
    "                        j += 1\n",
    "                        \n",
    "                    finalSubsetLen = firstZeros\n",
    "                    \n",
    "                    if j == x:\n",
    "                        return finalSubsetLen\n",
    "                    \n",
    "                    else:\n",
    "                        i = j-1\n",
    "\n",
    "        i += 1\n",
    "        \n",
    "    print(finalSubsetLen)"
   ]
  },
  {
   "cell_type": "code",
   "execution_count": 28,
   "metadata": {},
   "outputs": [
    {
     "name": "stdout",
     "output_type": "stream",
     "text": [
      "7\n"
     ]
    }
   ],
   "source": [
    "l =  [0, 0, 6, 4, -4, -3, 3, -2, 2, 0]\n",
    "subsetSum2(l)"
   ]
  },
  {
   "cell_type": "code",
   "execution_count": null,
   "metadata": {},
   "outputs": [],
   "source": []
  }
 ],
 "metadata": {
  "kernelspec": {
   "display_name": "Python 3",
   "language": "python",
   "name": "python3"
  },
  "language_info": {
   "codemirror_mode": {
    "name": "ipython",
    "version": 3
   },
   "file_extension": ".py",
   "mimetype": "text/x-python",
   "name": "python",
   "nbconvert_exporter": "python",
   "pygments_lexer": "ipython3",
   "version": "3.7.4"
  }
 },
 "nbformat": 4,
 "nbformat_minor": 2
}

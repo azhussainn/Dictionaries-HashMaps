{
 "cells": [
  {
   "cell_type": "code",
   "execution_count": 21,
   "metadata": {},
   "outputs": [
    {
     "name": "stdout",
     "output_type": "stream",
     "text": [
      "abcde"
     ]
    }
   ],
   "source": [
    "def uniqueChars(string):\n",
    "    d = {}\n",
    "    \n",
    "    for i in string:\n",
    "        d[i] = d.get(i, 0) + 1\n",
    "        \n",
    "        \n",
    "    for i in string:\n",
    "        count = d[i]\n",
    "        \n",
    "        if count > 0:\n",
    "            print(i, end= \"\")\n",
    "            d[i] = 0\n",
    "            \n",
    "string = \"abcbdce\"\n",
    "uniqueChars(string)"
   ]
  },
  {
   "cell_type": "code",
   "execution_count": null,
   "metadata": {},
   "outputs": [],
   "source": []
  }
 ],
 "metadata": {
  "kernelspec": {
   "display_name": "Python 3",
   "language": "python",
   "name": "python3"
  },
  "language_info": {
   "codemirror_mode": {
    "name": "ipython",
    "version": 3
   },
   "file_extension": ".py",
   "mimetype": "text/x-python",
   "name": "python",
   "nbconvert_exporter": "python",
   "pygments_lexer": "ipython3",
   "version": "3.7.4"
  }
 },
 "nbformat": 4,
 "nbformat_minor": 2
}

{
 "cells": [
  {
   "cell_type": "code",
   "execution_count": 66,
   "metadata": {},
   "outputs": [],
   "source": [
    "def maxFreq(l):\n",
    "    \n",
    "    d = {}\n",
    "    for num in l:\n",
    "        d[str(num)] = d.get(str(num), 0) + 1\n",
    "     \n",
    "    print(d)\n",
    "    maxNum = 0\n",
    "    maxSum = 0\n",
    "    keys = d.keys()\n",
    "    \n",
    "    for i in keys:\n",
    "        \n",
    "        if d[i] > maxSum:\n",
    "            maxNum = i\n",
    "            maxSum = d[i]\n",
    "            \n",
    "        if d[i] == maxSum:\n",
    "            if l.index(int(i)) < l.index(int(maxNum)):\n",
    "                maxNum = i\n",
    "                maxSum = d[i]\n",
    "    return int(maxNum)"
   ]
  },
  {
   "cell_type": "code",
   "execution_count": 68,
   "metadata": {},
   "outputs": [
    {
     "name": "stdout",
     "output_type": "stream",
     "text": [
      "13\n",
      "2 12 2 11 12 2 1 2 2 11 12 2 6\n",
      "{'2': 6, '12': 3, '11': 2, '1': 1, '6': 1}\n",
      "2\n"
     ]
    }
   ],
   "source": [
    "n = int(input())\n",
    "l = list(int(i) for i in input().strip().split(' '))\n",
    "print(maxFreq(l))"
   ]
  },
  {
   "cell_type": "code",
   "execution_count": null,
   "metadata": {},
   "outputs": [],
   "source": []
  }
 ],
 "metadata": {
  "kernelspec": {
   "display_name": "Python 3",
   "language": "python",
   "name": "python3"
  },
  "language_info": {
   "codemirror_mode": {
    "name": "ipython",
    "version": 3
   },
   "file_extension": ".py",
   "mimetype": "text/x-python",
   "name": "python",
   "nbconvert_exporter": "python",
   "pygments_lexer": "ipython3",
   "version": "3.7.4"
  }
 },
 "nbformat": 4,
 "nbformat_minor": 2
}

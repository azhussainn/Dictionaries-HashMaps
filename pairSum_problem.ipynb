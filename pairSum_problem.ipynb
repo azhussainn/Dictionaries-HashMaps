{
 "cells": [
  {
   "cell_type": "code",
   "execution_count": 82,
   "metadata": {},
   "outputs": [],
   "source": [
    "def pairSum0(l):\n",
    "    \n",
    "    d = {}\n",
    "    for i in l:\n",
    "        d[i] = d.get(i, 0) + 1\n",
    "        \n",
    "    \n",
    "    for i in d:\n",
    "        if i != 0:\n",
    "            if -i in d:\n",
    "                \n",
    "                countI = d[i]\n",
    "                countMinusI = d[-i]\n",
    "                \n",
    "                totalCount = countI * countMinusI\n",
    "                \n",
    "                if i > 0:\n",
    "                    for j in range(totalCount):\n",
    "                        print(-i, i)\n",
    "                        \n",
    "                else:\n",
    "                    for j in range(totalCount):\n",
    "                        print(i, -i)\n",
    "                        \n",
    "                d[i] = 0\n",
    "                d[-i] = 0\n",
    "        else:\n",
    "            countZero = d[i]\n",
    "            if countZero == 1:\n",
    "                for i in range(countZero):\n",
    "                    print(0, 0)\n",
    "                    \n",
    "            else:\n",
    "                countZero *= countZero\n",
    "                for i in range(countZero):\n",
    "                    print(0, 0)"
   ]
  },
  {
   "cell_type": "code",
   "execution_count": 85,
   "metadata": {},
   "outputs": [
    {
     "name": "stdout",
     "output_type": "stream",
     "text": [
      "5\n",
      "2 1 -2 2 3\n",
      "-2 2\n",
      "-2 2\n"
     ]
    }
   ],
   "source": [
    "n=int(input())\n",
    "l=list(int(i) for i in input().strip().split(' '))\n",
    "pairSum0(l)"
   ]
  },
  {
   "cell_type": "code",
   "execution_count": 130,
   "metadata": {},
   "outputs": [],
   "source": [
    "def pairSumv2(l):\n",
    "    \n",
    "    d = {}\n",
    "    for ele in l:\n",
    "        x = d.get(-ele, 0)\n",
    "        \n",
    "        if x == 0:\n",
    "            d[ele] = 1\n",
    "        \n",
    "        else:\n",
    "            if -ele < ele:\n",
    "                for _ in range(x):\n",
    "                    print(-ele, ele)\n",
    "                    \n",
    "            else:\n",
    "                for _ in range(x):\n",
    "                    print(ele, -ele)\n",
    "            d[ele] = 1"
   ]
  },
  {
   "cell_type": "code",
   "execution_count": 133,
   "metadata": {},
   "outputs": [
    {
     "name": "stdout",
     "output_type": "stream",
     "text": [
      "-2 2\n",
      "-2 2\n",
      "-2 2\n",
      "-6 6\n"
     ]
    }
   ],
   "source": [
    "l = [-2, 2, 6, -2, 2, -6, 3]\n",
    "pairSumv2(l)"
   ]
  },
  {
   "cell_type": "code",
   "execution_count": null,
   "metadata": {},
   "outputs": [],
   "source": []
  }
 ],
 "metadata": {
  "kernelspec": {
   "display_name": "Python 3",
   "language": "python",
   "name": "python3"
  },
  "language_info": {
   "codemirror_mode": {
    "name": "ipython",
    "version": 3
   },
   "file_extension": ".py",
   "mimetype": "text/x-python",
   "name": "python",
   "nbconvert_exporter": "python",
   "pygments_lexer": "ipython3",
   "version": "3.7.4"
  }
 },
 "nbformat": 4,
 "nbformat_minor": 2
}

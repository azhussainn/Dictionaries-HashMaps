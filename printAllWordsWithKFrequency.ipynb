{
 "cells": [
  {
   "cell_type": "code",
   "execution_count": 10,
   "metadata": {},
   "outputs": [],
   "source": [
    "def wordFrequency(a_string, k):\n",
    "    \n",
    "    words = a_string.split()\n",
    "    d = {}\n",
    "    \n",
    "    for w in words:\n",
    "        d[w] = d.get(w, 0) + 1\n",
    "        \n",
    "    for w in d:\n",
    "        if d[w] == k:\n",
    "            print(w)"
   ]
  },
  {
   "cell_type": "code",
   "execution_count": 11,
   "metadata": {},
   "outputs": [
    {
     "name": "stdout",
     "output_type": "stream",
     "text": [
      "the the yo hello Azhar yo\n",
      "2\n",
      "the\n",
      "yo\n"
     ]
    }
   ],
   "source": [
    "a_string = input()\n",
    "k = int(input())\n",
    "wordFrequency(a_string, k)"
   ]
  },
  {
   "cell_type": "code",
   "execution_count": null,
   "metadata": {},
   "outputs": [],
   "source": []
  }
 ],
 "metadata": {
  "kernelspec": {
   "display_name": "Python 3",
   "language": "python",
   "name": "python3"
  },
  "language_info": {
   "codemirror_mode": {
    "name": "ipython",
    "version": 3
   },
   "file_extension": ".py",
   "mimetype": "text/x-python",
   "name": "python",
   "nbconvert_exporter": "python",
   "pygments_lexer": "ipython3",
   "version": "3.7.4"
  }
 },
 "nbformat": 4,
 "nbformat_minor": 2
}

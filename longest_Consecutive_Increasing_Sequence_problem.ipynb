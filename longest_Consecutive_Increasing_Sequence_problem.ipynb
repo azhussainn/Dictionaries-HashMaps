{
 "cells": [
  {
   "cell_type": "code",
   "execution_count": 74,
   "metadata": {},
   "outputs": [
    {
     "name": "stdout",
     "output_type": "stream",
     "text": [
      "7\n",
      "8\n",
      "9\n"
     ]
    }
   ],
   "source": [
    "def longestConsecutiveIncreasingSequence(l):\n",
    "    \n",
    "    d = dict.fromkeys(l)            \n",
    "    maxNo = 0\n",
    "    maxCount = 0\n",
    "    \n",
    "    for i in l:\n",
    "        temp = 1\n",
    "        \n",
    "        j = i\n",
    "        while j+1 in d:\n",
    "            \n",
    "            temp += 1\n",
    "            j += 1\n",
    "            \n",
    "        if temp > maxCount:\n",
    "            maxNo = i\n",
    "            maxCount = temp\n",
    "            \n",
    "    while maxCount != 0:\n",
    "        print(maxNo)\n",
    "        \n",
    "        maxNo += 1\n",
    "        maxCount -= 1\n",
    "        \n",
    "        \n",
    "l = [3, 7, 2, 1, 9, 8, 1] \n",
    "longestConsecutiveIncreasingSequence(l)"
   ]
  },
  {
   "cell_type": "code",
   "execution_count": 179,
   "metadata": {},
   "outputs": [
    {
     "name": "stdout",
     "output_type": "stream",
     "text": [
      "13\n",
      "2 12 9 16 10 5 3 20 25 11 1 8 6\n",
      "8\n",
      "9\n",
      "10\n",
      "11\n",
      "12\n"
     ]
    }
   ],
   "source": [
    "def func(l):\n",
    "    \n",
    "    d = dict.fromkeys(l, True)\n",
    "    \n",
    "    maxLength = 0\n",
    "    start = 0\n",
    "    \n",
    "    \n",
    "    for key in d:\n",
    "        \n",
    "        if d[key] != False:\n",
    "            \n",
    "            tempLen = 1\n",
    "            \n",
    "            d[key] = False\n",
    "            temp = key\n",
    "            \n",
    "            while temp + 1 in d:\n",
    "                tempLen += 1\n",
    "                d[temp+1] = False\n",
    "                temp += 1\n",
    "                \n",
    "                \n",
    "            while key - 1 in d:\n",
    "                tempLen += 1\n",
    "                d[key-1] = False\n",
    "                key -= 1\n",
    "                \n",
    "            if tempLen >= maxLength:\n",
    "                \n",
    "                if tempLen == maxLength:\n",
    "                    if l.index(key) < l.index(start):\n",
    "                        maxLength = tempLen\n",
    "                        start = key\n",
    "                \n",
    "                else:\n",
    "                    maxLength = tempLen\n",
    "                    start = key\n",
    "    return start, maxLength\n",
    "\n",
    "n=int(input())\n",
    "l=list(int(i) for i in input().strip().split(' '))\n",
    "start, count = func(l)\n",
    "\n",
    "while count != 0:\n",
    "    print(start)\n",
    "    \n",
    "    start += 1\n",
    "    count -= 1"
   ]
  },
  {
   "cell_type": "code",
   "execution_count": null,
   "metadata": {},
   "outputs": [],
   "source": []
  }
 ],
 "metadata": {
  "kernelspec": {
   "display_name": "Python 3",
   "language": "python",
   "name": "python3"
  },
  "language_info": {
   "codemirror_mode": {
    "name": "ipython",
    "version": 3
   },
   "file_extension": ".py",
   "mimetype": "text/x-python",
   "name": "python",
   "nbconvert_exporter": "python",
   "pygments_lexer": "ipython3",
   "version": "3.7.4"
  }
 },
 "nbformat": 4,
 "nbformat_minor": 2
}

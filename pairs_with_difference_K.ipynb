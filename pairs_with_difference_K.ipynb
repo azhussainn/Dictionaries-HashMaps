{
 "cells": [
  {
   "cell_type": "code",
   "execution_count": 251,
   "metadata": {},
   "outputs": [],
   "source": [
    "def printPairDiffK(l, k):\n",
    "    \n",
    "    d = {}\n",
    "    for key in l:\n",
    "        d[key] = d.get(key, 0) + 1\n",
    "        \n",
    "    if k != 0:    \n",
    "        for key in d:\n",
    "\n",
    "            m = key + k\n",
    "            countK = d[key]\n",
    "            if m in d:\n",
    "\n",
    "                countKeyPlus = d[m]\n",
    "                total = countK * countKeyPlus\n",
    "                if m > key:\n",
    "                    for i in range(total):\n",
    "                        print(key, m)\n",
    "                else:\n",
    "                    for i in range(total):\n",
    "                        print(m, key)\n",
    "\n",
    "            m = key - k\n",
    "            if m in d:\n",
    "                countKeyMinus = d[m]\n",
    "                total = countK * countKeyMinus\n",
    "                if m > key:\n",
    "                    for i in range(total):\n",
    "                        print(key, m)\n",
    "                else:\n",
    "                    for i in range(total):\n",
    "                        print(m, key)\n",
    "\n",
    "            d[key] = 0\n",
    "    else:\n",
    "        for key in d:\n",
    "            count = d[key]\n",
    "            \n",
    "            if count > 1:\n",
    "                for i in range(count-1):\n",
    "                    for j in range(i+1, count):\n",
    "                        print(key, key)"
   ]
  },
  {
   "cell_type": "code",
   "execution_count": 255,
   "metadata": {},
   "outputs": [
    {
     "name": "stdout",
     "output_type": "stream",
     "text": [
      "4 4\n",
      "4 4\n",
      "4 4\n"
     ]
    }
   ],
   "source": [
    "l = [4, 4, 4]\n",
    "k = 0\n",
    "printPairDiffK(l, k)"
   ]
  },
  {
   "cell_type": "code",
   "execution_count": null,
   "metadata": {},
   "outputs": [],
   "source": []
  },
  {
   "cell_type": "code",
   "execution_count": null,
   "metadata": {},
   "outputs": [],
   "source": []
  },
  {
   "cell_type": "code",
   "execution_count": null,
   "metadata": {},
   "outputs": [],
   "source": []
  }
 ],
 "metadata": {
  "kernelspec": {
   "display_name": "Python 3",
   "language": "python",
   "name": "python3"
  },
  "language_info": {
   "codemirror_mode": {
    "name": "ipython",
    "version": 3
   },
   "file_extension": ".py",
   "mimetype": "text/x-python",
   "name": "python",
   "nbconvert_exporter": "python",
   "pygments_lexer": "ipython3",
   "version": "3.7.4"
  }
 },
 "nbformat": 4,
 "nbformat_minor": 2
}
